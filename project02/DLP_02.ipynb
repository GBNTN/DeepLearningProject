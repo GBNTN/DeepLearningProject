{
  "nbformat": 4,
  "nbformat_minor": 0,
  "metadata": {
    "accelerator": "TPU",
    "colab": {
      "name": "DLP_02",
      "provenance": [],
      "collapsed_sections": []
    },
    "kernelspec": {
      "display_name": "Python 3",
      "name": "python3"
    },
    "language_info": {
      "name": "python"
    }
  },
  "cells": [
    {
      "cell_type": "markdown",
      "metadata": {
        "id": "oWhWrICYZf7T"
      },
      "source": [
        "# Deep Learning Project 02"
      ]
    },
    {
      "cell_type": "markdown",
      "metadata": {
        "id": "3wfi7tu_8Htq"
      },
      "source": [
        "In order to use this notebook, the user has first to clone the project files on your drive. Then, the path in the second cell should be modified to the one directing at the location of the project files on the user's drive."
      ]
    },
    {
      "cell_type": "code",
      "metadata": {
        "colab": {
          "base_uri": "https://localhost:8080/"
        },
        "id": "KnV_JmF5YNvl",
        "outputId": "4147be09-c601-491b-ea9d-ff7a6aed7868"
      },
      "source": [
        "from google.colab import drive\n",
        "import os\n",
        "\n",
        "drive.mount ('/content/drive', force_remount=True)"
      ],
      "execution_count": 1,
      "outputs": [
        {
          "output_type": "stream",
          "text": [
            "Mounted at /content/drive\n"
          ],
          "name": "stdout"
        }
      ]
    },
    {
      "cell_type": "code",
      "metadata": {
        "colab": {
          "base_uri": "https://localhost:8080/"
        },
        "id": "OQgLxYu9YicB",
        "outputId": "68c29086-e0a0-4206-85d0-59a1742c408d"
      },
      "source": [
        "%cd drive/My\\ Drive/Deep_Learning_Project"
      ],
      "execution_count": 2,
      "outputs": [
        {
          "output_type": "stream",
          "text": [
            "/content/drive/My Drive/Deep_Learning_Project\n"
          ],
          "name": "stdout"
        }
      ]
    },
    {
      "cell_type": "markdown",
      "metadata": {
        "id": "mYjLD5v0Zb1k"
      },
      "source": [
        "### Importing Libraries and files and setting Parameters"
      ]
    },
    {
      "cell_type": "code",
      "metadata": {
        "colab": {
          "base_uri": "https://localhost:8080/"
        },
        "id": "5UnnBaBLYt7l",
        "outputId": "82e763f3-c0f5-4c86-991c-57927c8be139"
      },
      "source": [
        "import torch\n",
        "\n",
        "from loss import *\n",
        "from helpers import generator, plot_cross_validation\n",
        "from modules import Linear, Sequential\n",
        "from activations import ReLU, Tanh, Sigmoid\n",
        "from cross_validation import Cross_Validation\n",
        "from train import Optimizer\n",
        "\n",
        "torch.set_grad_enabled(False)"
      ],
      "execution_count": 3,
      "outputs": [
        {
          "output_type": "execute_result",
          "data": {
            "text/plain": [
              "<torch.autograd.grad_mode.set_grad_enabled at 0x7f96c6759c10>"
            ]
          },
          "metadata": {
            "tags": []
          },
          "execution_count": 3
        }
      ]
    },
    {
      "cell_type": "code",
      "metadata": {
        "id": "tEOvN1vIZDiW"
      },
      "source": [
        "# Parameters :\n",
        "N = 1000\n",
        "INPUT_SIZE = 2\n",
        "OUTPUT_SIZE = 2\n",
        "NUM_HIDDEN_LAYERS = 3\n",
        "NUM_HIDDEN_UNITS = 25\n",
        "NUM_EPOCH = 100\n",
        "BATCH_SIZE = 4\n",
        "CRITERION = \"CE\"\n",
        "\n",
        "# Xavier initialization :\n",
        "XAVIER_GAIN = 6.0\n",
        "\n",
        "# Adam Optimizer parameters : (best params found with cross-validation)\n",
        "ADAM = False\n",
        "LEARNING_RATE = 0.0001\n",
        "B1 = 0.8\n",
        "B2 = 0.899\n",
        "EPSILON = 1e-8\n",
        "\n",
        "# Cross validation boolean parameter :\n",
        "PLOT = True # Valid only for Cross-Validation\n",
        "\n",
        "# Generate Data sampled from an uniform distribution in the interval [0,1]\n",
        "train_input, train_labels = generator(N)\n",
        "test_input, test_labels = generator(N)\n",
        "\n",
        "\n",
        "Models_names = [\"ReLU_network\", \"Tanh_network\", \"Sigmoid_network\"]\n",
        "Models = [Sequential(Linear(INPUT_SIZE,NUM_HIDDEN_UNITS), ReLU(),\n",
        "                     Linear(NUM_HIDDEN_UNITS,NUM_HIDDEN_UNITS), ReLU(),\n",
        "                     Linear(NUM_HIDDEN_UNITS,NUM_HIDDEN_UNITS), ReLU(),\n",
        "                     Linear(NUM_HIDDEN_UNITS,OUTPUT_SIZE), Xavier = True, Xavier_gain = XAVIER_GAIN),\n",
        "          Sequential(Linear(INPUT_SIZE,NUM_HIDDEN_UNITS), Tanh(),\n",
        "                     Linear(NUM_HIDDEN_UNITS,NUM_HIDDEN_UNITS), Tanh(),\n",
        "                     Linear(NUM_HIDDEN_UNITS,NUM_HIDDEN_UNITS), Tanh(),\n",
        "                     Linear(NUM_HIDDEN_UNITS,OUTPUT_SIZE), Xavier = True, Xavier_gain = XAVIER_GAIN),\n",
        "          Sequential(Linear(INPUT_SIZE,NUM_HIDDEN_UNITS), Sigmoid(),\n",
        "                     Linear(NUM_HIDDEN_UNITS,NUM_HIDDEN_UNITS), Sigmoid(),\n",
        "                     Linear(NUM_HIDDEN_UNITS,NUM_HIDDEN_UNITS), Sigmoid(),\n",
        "                     Linear(NUM_HIDDEN_UNITS,OUTPUT_SIZE), Xavier = True, Xavier_gain = XAVIER_GAIN)\n",
        "         ]"
      ],
      "execution_count": 4,
      "outputs": []
    },
    {
      "cell_type": "markdown",
      "metadata": {
        "id": "wl0NAGDKZKv9"
      },
      "source": [
        "### Cross Validation"
      ]
    },
    {
      "cell_type": "code",
      "metadata": {
        "colab": {
          "base_uri": "https://localhost:8080/",
          "height": 1000
        },
        "id": "KoM8qiYlZDvp",
        "outputId": "f4ec7e57-c825-4172-9df7-a3dbf2e491a9"
      },
      "source": [
        "cross_params = {\"lr\" : torch.linspace(1e-4, 1e-1, 10)}\n",
        "\n",
        "if ADAM:\n",
        "  cross_params[\"eps\"] = torch.linspace(1e-8, 1e-6, 3)\n",
        "  cross_params[\"b1\"] = torch.linspace(0.8, 0.9, 2)\n",
        "  cross_params[\"b2\"] = torch.linspace(0.9, 0.999, 2)\n",
        "\n",
        "CV = Cross_Validation(Models, Models_names, cross_params)\n",
        "CV.cross_validation(epochs = NUM_EPOCH, mini_batch_size = BATCH_SIZE,\n",
        "                    criterion = CRITERION, Adam = ADAM)\n",
        "\n",
        "print(\"Results of Cross-Validation\")\n",
        "for model, name in zip(Models, Models_names):\n",
        "  print(\"The best parameters of the {} with an accuracy of {:.2f} are :\".format(name, CV.best_params[name][\"accuracy\"]))\n",
        "  for param_name in CV.best_params[name]:\n",
        "    if not param_name == \"accuracy\":\n",
        "      print(\"{} = {} \".format(param_name, CV.best_params[name][param_name]))\n",
        "\n",
        "if PLOT:\n",
        "  plot_cross_validation(accuracy = CV.best_params, Adam = ADAM)"
      ],
      "execution_count": 5,
      "outputs": [
        {
          "output_type": "stream",
          "text": [
            "Validation with values : lr = 0.0001\n",
            "Accuracy of the RelU_network = 0.97\n",
            "Accuracy of the Tanh_network = 0.97\n",
            "Accuracy of the Sigmoid_network = 0.97\n",
            "Validation with values : lr = 0.0112\n",
            "Accuracy of the RelU_network = 0.97\n",
            "Accuracy of the Tanh_network = 0.97\n",
            "Accuracy of the Sigmoid_network = 0.97\n",
            "Validation with values : lr = 0.0223\n",
            "Accuracy of the RelU_network = 0.97\n",
            "Accuracy of the Tanh_network = 0.97\n",
            "Accuracy of the Sigmoid_network = 0.97\n",
            "Validation with values : lr = 0.0334\n",
            "Accuracy of the RelU_network = 0.97\n",
            "Accuracy of the Tanh_network = 0.97\n",
            "Accuracy of the Sigmoid_network = 0.97\n",
            "Validation with values : lr = 0.0445\n",
            "Accuracy of the RelU_network = 0.97\n",
            "Accuracy of the Tanh_network = 0.97\n",
            "Accuracy of the Sigmoid_network = 0.97\n",
            "Validation with values : lr = 0.0556\n",
            "Accuracy of the RelU_network = 0.97\n",
            "Accuracy of the Tanh_network = 0.97\n",
            "Accuracy of the Sigmoid_network = 0.97\n",
            "Validation with values : lr = 0.0667\n",
            "Accuracy of the RelU_network = 0.97\n",
            "Accuracy of the Tanh_network = 0.97\n",
            "Accuracy of the Sigmoid_network = 0.97\n",
            "Validation with values : lr = 0.0778\n",
            "Accuracy of the RelU_network = 0.97\n",
            "Accuracy of the Tanh_network = 0.97\n",
            "Accuracy of the Sigmoid_network = 0.97\n",
            "Validation with values : lr = 0.0889\n",
            "Accuracy of the RelU_network = 0.97\n",
            "Accuracy of the Tanh_network = 0.97\n",
            "Accuracy of the Sigmoid_network = 0.97\n",
            "Validation with values : lr = 0.1000\n"
          ],
          "name": "stdout"
        },
        {
          "output_type": "stream",
          "text": [
            "No handles with labels found to put in legend.\n"
          ],
          "name": "stderr"
        },
        {
          "output_type": "stream",
          "text": [
            "Accuracy of the RelU_network = 0.97\n",
            "Accuracy of the Tanh_network = 0.97\n",
            "Accuracy of the Sigmoid_network = 0.97\n",
            "Results of Cross-Validation\n",
            "The best parameters of the RelU_network with an accuracy of 0.97 are :\n",
            "lr = 9.999999747378752e-05 \n",
            "eps = 1e-08 \n",
            "b1 = 0.9 \n",
            "b2 = 0.999 \n",
            "The best parameters of the Tanh_network with an accuracy of 0.97 are :\n",
            "lr = 9.999999747378752e-05 \n",
            "eps = 1e-08 \n",
            "b1 = 0.9 \n",
            "b2 = 0.999 \n",
            "The best parameters of the Sigmoid_network with an accuracy of 0.97 are :\n",
            "lr = 9.999999747378752e-05 \n",
            "eps = 1e-08 \n",
            "b1 = 0.9 \n",
            "b2 = 0.999 \n"
          ],
          "name": "stdout"
        },
        {
          "output_type": "display_data",
          "data": {
            "image/png": "[encoded data removed]",
            "text/plain": [
              "<Figure size 360x360 with 1 Axes>"
            ]
          },
          "metadata": {
            "tags": [],
            "needs_background": "light"
          }
        }
      ]
    },
    {
      "cell_type": "markdown",
      "metadata": {
        "id": "jEio7ggTZOu8"
      },
      "source": [
        "### Training with Optimum parameters"
      ]
    },
    {
      "cell_type": "code",
      "metadata": {
        "id": "klDsqzqds5sU"
      },
      "source": [
        "# Best parameters :\n",
        "\n",
        "# Loss : Mean Squared Error \n",
        "params_SGD_MSE = {\"lr\" : 1e-4, \"epsilon\" : 1e-8, \"b1\" : 0.9, \"b2\" : 0.999} # epsilon, b1, and b2 don't have any importance with SGD\n",
        "params_Adam_MSE = {\"lr\" : 1e-4, \"epsilon\" : 1e-8, \"b1\" : 0.8, \"b2\" : 0.899}\n",
        "\n",
        "# Loss : Cross Entropy\n",
        "params_SGD_CE = {\"lr\" : 1e-4, \"epsilon\" : 1e-8, \"b1\" : 0.9, \"b2\" : 0.999} # epsilon, b1, and b2 don't have any importance with SGD\n",
        "params_Adam_CE = {\"lr\" : 1e-4, \"epsilon\" : 1e-8, \"b1\" : 0.8, \"b2\" : 0.899}"
      ],
      "execution_count": 5,
      "outputs": []
    },
    {
      "cell_type": "markdown",
      "metadata": {
        "id": "o0vQphA300hy"
      },
      "source": [
        "#### Choose your network:\n",
        "\n",
        "  - Choice of activation function :\n",
        "    - Rectified Linear Unit : param name \"ReLU\"\n",
        "    - Hyperbolic tangent : param name \"Tanh\"\n",
        "    - Sigmoid : param name \"Sigmoid\"\n",
        "  - Choice for the loss :\n",
        "    - Mean Squared Error : param name \"MSE\"\n",
        "    - Cross Entropy : param name \"CE\"\n",
        "  - Choice of Optimization :\n",
        "    - Stochastic gradient descent : param name \"SGD\"\n",
        "    - Adam : param name \"ADAM\""
      ]
    },
    {
      "cell_type": "code",
      "metadata": {
        "id": "HHKryRJT0gLm"
      },
      "source": [
        "ACTIVATION = \"ReLU\" # or \"Tanh\" or \"Sigmoid\"\n",
        "LOSS = \"CE\" # or \"MSE\"\n",
        "OPTIMIZER = \"ADAM\" # or \"SGD\""
      ],
      "execution_count": 19,
      "outputs": []
    },
    {
      "cell_type": "code",
      "metadata": {
        "id": "ujy7_uSq3lXS"
      },
      "source": [
        "your_optimization = True if OPTIMIZER == \"ADAM\" else False\n",
        "your_model = [Models[Models_names.index(ACTIVATION + \"_network\")]]\n",
        "your_model_name = ACTIVATION + \"_network\"\n",
        "\n",
        "if LOSS == \"MSE\":\n",
        "  if OPTIMIZER == \"ADAM\":\n",
        "    params = params_Adam_MSE\n",
        "  else:\n",
        "    params = params_SGD_MSE\n",
        "elif LOSS == \"CE\":\n",
        "  if OPTIMIZER == \"ADAM\":\n",
        "    params = params_Adam_CE\n",
        "  else:\n",
        "    params = params_SGD_CE"
      ],
      "execution_count": 20,
      "outputs": []
    },
    {
      "cell_type": "code",
      "metadata": {
        "colab": {
          "base_uri": "https://localhost:8080/"
        },
        "id": "7tRT2uzTZDyn",
        "outputId": "cf2032b1-cdb8-4f0a-ef6d-2d0fe2958bba"
      },
      "source": [
        "# Construct the optimizer and generate Data sampled from an uniform distribution in the interval [0,1]\n",
        "optimizer = Optimizer(your_model, your_model_name, epochs = NUM_EPOCH,  mini_batch_size = BATCH_SIZE,\n",
        "                      criterion = LOSS, learning_rate = params[\"lr\"], Adam = your_optimization,\n",
        "                      epsilon = params[\"epsilon\"], beta_1 = params[\"b1\"], beta_2 = params[\"b2\"])\n",
        "\n",
        "# Training of the models:\n",
        "optimizer.train(train_input, train_labels)\n",
        "\n",
        "# Computing the accuracy :\n",
        "accuracy_train = optimizer.compute_accuracy(train_input, train_labels)\n",
        "accuracy_test = optimizer.compute_accuracy(test_input, test_labels)\n",
        "\n",
        "for index, name in enumerate(Models_names):\n",
        "  if name == your_model_name:\n",
        "    print('Train accuracy of {} = {:.2f}'.format(name, accuracy_train[index].item()*100))\n",
        "    print('Test accuracy of {} = {:.2f}'.format(name, accuracy_test[index].item()*100))"
      ],
      "execution_count": 21,
      "outputs": [
        {
          "output_type": "stream",
          "text": [
            "Train accuracy of ReLU_network = 97.30\n",
            "Test accuracy of ReLU_network = 97.40\n"
          ],
          "name": "stdout"
        }
      ]
    },
    {
      "cell_type": "code",
      "metadata": {
        "id": "L4YWTCUa4wyt"
      },
      "source": [
        ""
      ],
      "execution_count": 9,
      "outputs": []
    }
  ]
}