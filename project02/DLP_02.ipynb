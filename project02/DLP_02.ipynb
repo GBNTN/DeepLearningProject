{
  "nbformat": 4,
  "nbformat_minor": 0,
  "metadata": {
    "colab": {
      "name": "DLP_02.ipynb",
      "provenance": [],
      "collapsed_sections": []
    },
    "kernelspec": {
      "name": "python3",
      "display_name": "Python 3"
    },
    "language_info": {
      "name": "python"
    },
    "accelerator": "TPU"
  },
  "cells": [
    {
      "cell_type": "markdown",
      "metadata": {
        "id": "oWhWrICYZf7T"
      },
      "source": [
        "# Deep Learning Project 02"
      ]
    },
    {
      "cell_type": "code",
      "metadata": {
        "colab": {
          "base_uri": "https://localhost:8080/"
        },
        "id": "KnV_JmF5YNvl",
        "outputId": "b45ac200-5997-425f-8975-83f22aa89a2c"
      },
      "source": [
        "from google.colab import drive\n",
        "import os\n",
        "\n",
        "drive.mount ('/content/drive', force_remount=True)"
      ],
      "execution_count": 1,
      "outputs": [
        {
          "output_type": "stream",
          "text": [
            "Mounted at /content/drive\n"
          ],
          "name": "stdout"
        }
      ]
    },
    {
      "cell_type": "code",
      "metadata": {
        "colab": {
          "base_uri": "https://localhost:8080/"
        },
        "id": "OQgLxYu9YicB",
        "outputId": "5cb2ef7d-02ce-4718-ad62-1fc4b626e668"
      },
      "source": [
        "%cd drive/My\\ Drive/Deep_Learning_Project"
      ],
      "execution_count": 2,
      "outputs": [
        {
          "output_type": "stream",
          "text": [
            "/content/drive/My Drive/Deep_Learning_Project\n"
          ],
          "name": "stdout"
        }
      ]
    },
    {
      "cell_type": "markdown",
      "metadata": {
        "id": "mYjLD5v0Zb1k"
      },
      "source": [
        "### Importing Libraries and files and setting Parameters"
      ]
    },
    {
      "cell_type": "code",
      "metadata": {
        "colab": {
          "base_uri": "https://localhost:8080/"
        },
        "id": "5UnnBaBLYt7l",
        "outputId": "21da415a-30e5-4617-a94b-68206062d083"
      },
      "source": [
        "import torch\n",
        "\n",
        "from loss import *\n",
        "from helpers import generator, plot_cross_validation\n",
        "from modules import Linear, Sequential\n",
        "from activations import ReLU, Tanh, Sigmoid\n",
        "from cross_validation import Cross_Validation\n",
        "from train import Optimizer\n",
        "\n",
        "torch.set_grad_enabled(False)"
      ],
      "execution_count": 3,
      "outputs": [
        {
          "output_type": "execute_result",
          "data": {
            "text/plain": [
              "<torch.autograd.grad_mode.set_grad_enabled at 0x7fd85b7aa550>"
            ]
          },
          "metadata": {
            "tags": []
          },
          "execution_count": 3
        }
      ]
    },
    {
      "cell_type": "code",
      "metadata": {
        "id": "tEOvN1vIZDiW"
      },
      "source": [
        "# Parameters :\n",
        "N = 1000\n",
        "INPUT_SIZE = 2\n",
        "OUTPUT_SIZE = 2\n",
        "NUM_HIDDEN_LAYERS = 3\n",
        "NUM_HIDDEN_UNITS = 25\n",
        "NUM_EPOCH = 100\n",
        "BATCH_SIZE = 10\n",
        "CRITERION = \"MSE\"\n",
        "\n",
        "# Adam Optimizer parameters : (best params found with cross-validation)\n",
        "ADAM = True\n",
        "LEARNING_RATE = 0.001\n",
        "B1 = 0.9\n",
        "B2 = 0.09\n",
        "EPSILON = 0.01\n",
        "\n",
        "# Cross validation boolean parameter :\n",
        "PLOT = True # Valid only for Cross-Validation\n",
        "\n",
        "# Generate Data sampled from an uniform distribution in the interval [0,1]\n",
        "train_input, train_labels = generator(N)\n",
        "test_input, test_labels = generator(N)\n",
        "\n",
        "\n",
        "Models_names = [\"RelU_network\", \"Tanh_network\", \"Sigmoid_network\"]\n",
        "Models = [Sequential(Linear(INPUT_SIZE,NUM_HIDDEN_UNITS), ReLU(),\n",
        "                     Linear(NUM_HIDDEN_UNITS,NUM_HIDDEN_UNITS), ReLU(),\n",
        "                     Linear(NUM_HIDDEN_UNITS,NUM_HIDDEN_UNITS), ReLU(),\n",
        "                     Linear(NUM_HIDDEN_UNITS,OUTPUT_SIZE), Xavier = True),\n",
        "          Sequential(Linear(INPUT_SIZE,NUM_HIDDEN_UNITS), Tanh(),\n",
        "                     Linear(NUM_HIDDEN_UNITS,NUM_HIDDEN_UNITS), Tanh(),\n",
        "                     Linear(NUM_HIDDEN_UNITS,NUM_HIDDEN_UNITS), Tanh(),\n",
        "                     Linear(NUM_HIDDEN_UNITS,OUTPUT_SIZE), Xavier = True),\n",
        "          Sequential(Linear(INPUT_SIZE,NUM_HIDDEN_UNITS), Sigmoid(),\n",
        "                     Linear(NUM_HIDDEN_UNITS,NUM_HIDDEN_UNITS), Sigmoid(),\n",
        "                     Linear(NUM_HIDDEN_UNITS,NUM_HIDDEN_UNITS), Sigmoid(),\n",
        "                     Linear(NUM_HIDDEN_UNITS,OUTPUT_SIZE), Xavier = True)\n",
        "         ]"
      ],
      "execution_count": 4,
      "outputs": []
    },
    {
      "cell_type": "markdown",
      "metadata": {
        "id": "wl0NAGDKZKv9"
      },
      "source": [
        "### Cross Validation"
      ]
    },
    {
      "cell_type": "code",
      "metadata": {
        "id": "KoM8qiYlZDvp",
        "colab": {
          "base_uri": "https://localhost:8080/"
        },
        "outputId": "512aa61b-5279-4653-cfcb-a1321fd7ff75"
      },
      "source": [
        "cross_params = {\"lr\" : torch.linspace(1e-4, 1e-1, 10)}\n",
        "\n",
        "if ADAM:\n",
        "  cross_params[\"eps\"] = torch.linspace(1e-8, 1e-6, 3)\n",
        "  cross_params[\"b1\"] = torch.linspace(0.8, 0.9, 2)\n",
        "  cross_params[\"b2\"] = torch.linspace(0.9, 0.999, 2)\n",
        "\n",
        "CV = Cross_Validation(Models, Models_names, cross_params)\n",
        "CV.cross_validation(epochs = NUM_EPOCH, mini_batch_size = BATCH_SIZE,\n",
        "                    criterion = CRITERION, Adam = ADAM)\n",
        "\n",
        "print(\"Results of Cross-Validation\")\n",
        "for model, name in zip(Models, Models_names):\n",
        "  print(\"The best parameters of the {} with an accuracy of {:.2f} are :\".format(name, CV.best_params[name][\"accuracy\"]))\n",
        "  for param_name in CV.best_params[name]:\n",
        "    if not param_name == \"accuracy\":\n",
        "      print(\"{} = {} \".format(param_name, CV.best_params[name][param_name]))\n",
        "\n",
        "if PLOT:\n",
        "  plot_cross_validation(accuracy = CV.best_params, Adam = ADAM)"
      ],
      "execution_count": null,
      "outputs": [
        {
          "output_type": "stream",
          "text": [
            "Validation with values : lr = 0.0001, eps = 0.00000001, b1 = 0.800, b2 = 0.900\n",
            "Accuracy of the RelU_network = 0.98\n",
            "Accuracy of the Tanh_network = 0.03\n",
            "Accuracy of the Sigmoid_network = 0.98\n",
            "Validation with values : lr = 0.0001, eps = 0.00000001, b1 = 0.800, b2 = 0.999\n",
            "Accuracy of the RelU_network = 0.98\n",
            "Accuracy of the Tanh_network = 0.98\n",
            "Accuracy of the Sigmoid_network = 0.98\n",
            "Validation with values : lr = 0.0001, eps = 0.00000001, b1 = 0.900, b2 = 0.900\n",
            "Accuracy of the RelU_network = 0.98\n",
            "Accuracy of the Tanh_network = 0.98\n",
            "Accuracy of the Sigmoid_network = 0.03\n",
            "Validation with values : lr = 0.0001, eps = 0.00000001, b1 = 0.900, b2 = 0.999\n",
            "Accuracy of the RelU_network = 0.98\n",
            "Accuracy of the Tanh_network = 0.98\n",
            "Accuracy of the Sigmoid_network = 0.03\n",
            "Validation with values : lr = 0.0001, eps = 0.00000051, b1 = 0.800, b2 = 0.900\n",
            "Accuracy of the RelU_network = 0.98\n",
            "Accuracy of the Tanh_network = 0.98\n",
            "Accuracy of the Sigmoid_network = 0.98\n",
            "Validation with values : lr = 0.0001, eps = 0.00000051, b1 = 0.800, b2 = 0.999\n",
            "Accuracy of the RelU_network = 0.98\n",
            "Accuracy of the Tanh_network = 0.98\n",
            "Accuracy of the Sigmoid_network = 0.98\n",
            "Validation with values : lr = 0.0001, eps = 0.00000051, b1 = 0.900, b2 = 0.900\n",
            "Accuracy of the RelU_network = 0.98\n",
            "Accuracy of the Tanh_network = 0.98\n",
            "Accuracy of the Sigmoid_network = 0.98\n",
            "Validation with values : lr = 0.0001, eps = 0.00000051, b1 = 0.900, b2 = 0.999\n",
            "Accuracy of the RelU_network = 0.98\n",
            "Accuracy of the Tanh_network = 0.98\n",
            "Accuracy of the Sigmoid_network = 0.98\n",
            "Validation with values : lr = 0.0001, eps = 0.00000100, b1 = 0.800, b2 = 0.900\n",
            "Accuracy of the RelU_network = 0.98\n",
            "Accuracy of the Tanh_network = 0.98\n",
            "Accuracy of the Sigmoid_network = 0.98\n",
            "Validation with values : lr = 0.0001, eps = 0.00000100, b1 = 0.800, b2 = 0.999\n",
            "Accuracy of the RelU_network = 0.98\n",
            "Accuracy of the Tanh_network = 0.98\n",
            "Accuracy of the Sigmoid_network = 0.98\n",
            "Validation with values : lr = 0.0001, eps = 0.00000100, b1 = 0.900, b2 = 0.900\n",
            "Accuracy of the RelU_network = 0.98\n",
            "Accuracy of the Tanh_network = 0.03\n",
            "Accuracy of the Sigmoid_network = 0.98\n",
            "Validation with values : lr = 0.0001, eps = 0.00000100, b1 = 0.900, b2 = 0.999\n",
            "Accuracy of the RelU_network = 0.98\n",
            "Accuracy of the Tanh_network = 0.03\n",
            "Accuracy of the Sigmoid_network = 0.98\n",
            "Validation with values : lr = 0.0112, eps = 0.00000001, b1 = 0.800, b2 = 0.900\n",
            "Accuracy of the RelU_network = 0.03\n",
            "Accuracy of the Tanh_network = 0.98\n",
            "Accuracy of the Sigmoid_network = 0.03\n",
            "Validation with values : lr = 0.0112, eps = 0.00000001, b1 = 0.800, b2 = 0.999\n",
            "Accuracy of the RelU_network = 0.03\n",
            "Accuracy of the Tanh_network = 0.98\n",
            "Accuracy of the Sigmoid_network = 0.03\n",
            "Validation with values : lr = 0.0112, eps = 0.00000001, b1 = 0.900, b2 = 0.900\n",
            "Accuracy of the RelU_network = 0.03\n",
            "Accuracy of the Tanh_network = 0.98\n",
            "Accuracy of the Sigmoid_network = 0.98\n",
            "Validation with values : lr = 0.0112, eps = 0.00000001, b1 = 0.900, b2 = 0.999\n",
            "Accuracy of the RelU_network = 0.03\n",
            "Accuracy of the Tanh_network = 0.98\n",
            "Accuracy of the Sigmoid_network = 0.98\n",
            "Validation with values : lr = 0.0112, eps = 0.00000051, b1 = 0.800, b2 = 0.900\n",
            "Accuracy of the RelU_network = 0.98\n",
            "Accuracy of the Tanh_network = 0.98\n",
            "Accuracy of the Sigmoid_network = 0.03\n",
            "Validation with values : lr = 0.0112, eps = 0.00000051, b1 = 0.800, b2 = 0.999\n",
            "Accuracy of the RelU_network = 0.98\n",
            "Accuracy of the Tanh_network = 0.98\n",
            "Accuracy of the Sigmoid_network = 0.03\n",
            "Validation with values : lr = 0.0112, eps = 0.00000051, b1 = 0.900, b2 = 0.900\n",
            "Accuracy of the RelU_network = 0.98\n",
            "Accuracy of the Tanh_network = 0.98\n",
            "Accuracy of the Sigmoid_network = 0.03\n",
            "Validation with values : lr = 0.0112, eps = 0.00000051, b1 = 0.900, b2 = 0.999\n",
            "Accuracy of the RelU_network = 0.98\n",
            "Accuracy of the Tanh_network = 0.98\n",
            "Accuracy of the Sigmoid_network = 0.03\n",
            "Validation with values : lr = 0.0112, eps = 0.00000100, b1 = 0.800, b2 = 0.900\n",
            "Accuracy of the RelU_network = 0.03\n",
            "Accuracy of the Tanh_network = 0.98\n",
            "Accuracy of the Sigmoid_network = 0.98\n",
            "Validation with values : lr = 0.0112, eps = 0.00000100, b1 = 0.800, b2 = 0.999\n",
            "Accuracy of the RelU_network = 0.03\n",
            "Accuracy of the Tanh_network = 0.98\n",
            "Accuracy of the Sigmoid_network = 0.98\n",
            "Validation with values : lr = 0.0112, eps = 0.00000100, b1 = 0.900, b2 = 0.900\n",
            "Accuracy of the RelU_network = 0.03\n",
            "Accuracy of the Tanh_network = 0.98\n",
            "Accuracy of the Sigmoid_network = 0.98\n",
            "Validation with values : lr = 0.0112, eps = 0.00000100, b1 = 0.900, b2 = 0.999\n",
            "Accuracy of the RelU_network = 0.03\n",
            "Accuracy of the Tanh_network = 0.98\n",
            "Accuracy of the Sigmoid_network = 0.98\n",
            "Validation with values : lr = 0.0223, eps = 0.00000001, b1 = 0.800, b2 = 0.900\n",
            "Accuracy of the RelU_network = 0.98\n",
            "Accuracy of the Tanh_network = 0.98\n",
            "Accuracy of the Sigmoid_network = 0.03\n",
            "Validation with values : lr = 0.0223, eps = 0.00000001, b1 = 0.800, b2 = 0.999\n",
            "Accuracy of the RelU_network = 0.98\n",
            "Accuracy of the Tanh_network = 0.98\n",
            "Accuracy of the Sigmoid_network = 0.03\n",
            "Validation with values : lr = 0.0223, eps = 0.00000001, b1 = 0.900, b2 = 0.900\n",
            "Accuracy of the RelU_network = 0.98\n",
            "Accuracy of the Tanh_network = 0.98\n",
            "Accuracy of the Sigmoid_network = 0.03\n",
            "Validation with values : lr = 0.0223, eps = 0.00000001, b1 = 0.900, b2 = 0.999\n",
            "Accuracy of the RelU_network = 0.98\n",
            "Accuracy of the Tanh_network = 0.98\n",
            "Accuracy of the Sigmoid_network = 0.03\n",
            "Validation with values : lr = 0.0223, eps = 0.00000051, b1 = 0.800, b2 = 0.900\n",
            "Accuracy of the RelU_network = 0.98\n",
            "Accuracy of the Tanh_network = 0.98\n",
            "Accuracy of the Sigmoid_network = 0.98\n",
            "Validation with values : lr = 0.0223, eps = 0.00000051, b1 = 0.800, b2 = 0.999\n",
            "Accuracy of the RelU_network = 0.98\n",
            "Accuracy of the Tanh_network = 0.98\n",
            "Accuracy of the Sigmoid_network = 0.98\n",
            "Validation with values : lr = 0.0223, eps = 0.00000051, b1 = 0.900, b2 = 0.900\n",
            "Accuracy of the RelU_network = 0.03\n",
            "Accuracy of the Tanh_network = 0.98\n",
            "Accuracy of the Sigmoid_network = 0.03\n",
            "Validation with values : lr = 0.0223, eps = 0.00000051, b1 = 0.900, b2 = 0.999\n",
            "Accuracy of the RelU_network = 0.03\n",
            "Accuracy of the Tanh_network = 0.98\n",
            "Accuracy of the Sigmoid_network = 0.03\n",
            "Validation with values : lr = 0.0223, eps = 0.00000100, b1 = 0.800, b2 = 0.900\n",
            "Accuracy of the RelU_network = 0.03\n",
            "Accuracy of the Tanh_network = 0.98\n",
            "Accuracy of the Sigmoid_network = 0.98\n",
            "Validation with values : lr = 0.0223, eps = 0.00000100, b1 = 0.800, b2 = 0.999\n",
            "Accuracy of the RelU_network = 0.03\n",
            "Accuracy of the Tanh_network = 0.98\n",
            "Accuracy of the Sigmoid_network = 0.98\n",
            "Validation with values : lr = 0.0223, eps = 0.00000100, b1 = 0.900, b2 = 0.900\n",
            "Accuracy of the RelU_network = 0.98\n",
            "Accuracy of the Tanh_network = 0.98\n",
            "Accuracy of the Sigmoid_network = 0.98\n",
            "Validation with values : lr = 0.0223, eps = 0.00000100, b1 = 0.900, b2 = 0.999\n",
            "Accuracy of the RelU_network = 0.98\n",
            "Accuracy of the Tanh_network = 0.98\n",
            "Accuracy of the Sigmoid_network = 0.98\n",
            "Validation with values : lr = 0.0334, eps = 0.00000001, b1 = 0.800, b2 = 0.900\n",
            "Accuracy of the RelU_network = 0.98\n",
            "Accuracy of the Tanh_network = 0.98\n",
            "Accuracy of the Sigmoid_network = 0.03\n",
            "Validation with values : lr = 0.0334, eps = 0.00000001, b1 = 0.800, b2 = 0.999\n",
            "Accuracy of the RelU_network = 0.98\n",
            "Accuracy of the Tanh_network = 0.98\n",
            "Accuracy of the Sigmoid_network = 0.03\n",
            "Validation with values : lr = 0.0334, eps = 0.00000001, b1 = 0.900, b2 = 0.900\n"
          ],
          "name": "stdout"
        }
      ]
    },
    {
      "cell_type": "markdown",
      "metadata": {
        "id": "jEio7ggTZOu8"
      },
      "source": [
        "### Training with Optimum parameters"
      ]
    },
    {
      "cell_type": "code",
      "metadata": {
        "id": "klDsqzqds5sU"
      },
      "source": [
        "# Best parameters :\n"
      ],
      "execution_count": null,
      "outputs": []
    },
    {
      "cell_type": "code",
      "metadata": {
        "id": "7tRT2uzTZDyn",
        "colab": {
          "base_uri": "https://localhost:8080/"
        },
        "outputId": "40022abc-8e54-4913-8b15-6b86c0784003"
      },
      "source": [
        "# Construct the optimizer and generate Data sampled from an uniform distribution in the interval [0,1]\n",
        "optimizer = Optimizer(Models, Models_names, epochs = NUM_EPOCH,  mini_batch_size = BATCH_SIZE,\n",
        "                      criterion = CRITERION, learning_rate = LEARNING_RATE, Adam = ADAM,\n",
        "                      epsilon = EPSILON, beta_1 = B1, beta_2 = B2)\n",
        "\n",
        "# Training of the models:\n",
        "optimizer.train(train_input, train_labels)\n",
        "\n",
        "# Computing the accuracy :\n",
        "accuracy_train = optimizer.compute_accuracy(train_input, train_labels)\n",
        "accuracy_test = optimizer.compute_accuracy(test_input, test_labels)\n",
        "\n",
        "for index, name in enumerate(Models_names):\n",
        "  print('Train accuracy of {} = {:.2f}'.format(name, accuracy_train[index].item()*100))\n",
        "  print('Test accuracy of {} = {:.2f}'.format(name, accuracy_test[index].item()*100))"
      ],
      "execution_count": 11,
      "outputs": [
        {
          "output_type": "stream",
          "text": [
            "Train accuracy of RelU_network = 1.80\n",
            "Test accuracy of RelU_network = 2.30\n",
            "Train accuracy of Tanh_network = 1.80\n",
            "Test accuracy of Tanh_network = 2.30\n",
            "Train accuracy of Sigmoid_network = 1.80\n",
            "Test accuracy of Sigmoid_network = 2.30\n"
          ],
          "name": "stdout"
        }
      ]
    },
    {
      "cell_type": "code",
      "metadata": {
        "id": "L4YWTCUa4wyt"
      },
      "source": [
        ""
      ],
      "execution_count": null,
      "outputs": []
    }
  ]
}